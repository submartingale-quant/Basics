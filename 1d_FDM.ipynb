{
 "cells": [
  {
   "cell_type": "code",
   "execution_count": 1,
   "metadata": {},
   "outputs": [],
   "source": [
    "#%%\n",
    "import numpy as np \n",
    "import pandas as pd\n",
    "from scipy.linalg import solve_banded, solve, solveh_banded\n",
    "from scipy.interpolate import interp1d\n",
    "import matplotlib.pyplot as plt "
   ]
  },
  {
   "cell_type": "code",
   "execution_count": null,
   "metadata": {},
   "outputs": [],
   "source": [
    "# This code reference prof.Hwang\n",
    "\n",
    "s0 = 1\n",
    "k = 1\n",
    "r = 0.03\n",
    "q = 0.01\n",
    "t = 0.5\n",
    "vol = 0.2\n",
    "optionType = 'call'\n",
    "maxS = 2\n",
    "N = 200\n",
    "M = 2000\n",
    "theta = 1"
   ]
  },
  {
   "cell_type": "code",
   "execution_count": 55,
   "metadata": {},
   "outputs": [],
   "source": [
    "ds = maxS / N\n",
    "dt = t / M\n",
    "callOrPut = 1 if optionType.lower()=='call' else -1\n",
    "\n",
    "i = np.arange(N+1)\n",
    "j = np.arange(M+1)\n",
    "s = i * ds\n",
    "tt = j * dt\n",
    "\n",
    "a = dt*(vol*s[1:-1])**2 / (2*ds**2)\n",
    "b = dt*(r-q)*s[1:-1] / (2*ds)\n",
    "d, m, u = a-b, -2*a-dt*r, a+b"
   ]
  },
  {
   "cell_type": "code",
   "execution_count": 56,
   "metadata": {},
   "outputs": [],
   "source": [
    "A = np.diag(d[1:],-1) + np.diag(m) + np.diag(u[:-1],1)\n",
    "B = np.zeros((N-1,2))\n",
    "B[0,0], B[-1,1] = d[0], u[-1]"
   ]
  },
  {
   "cell_type": "code",
   "execution_count": null,
   "metadata": {},
   "outputs": [],
   "source": [
    "Am =np.identity(N-1) - theta*A\n",
    "Ap = np.identity(N-1) + (1+theta)*A\n",
    "ab = np.zeros((3,N-1))\n",
    "ab[0,1:] = np.diag(Am,1)\n",
    "ab[1] = np.diag(Am)\n",
    "ab[2,:-1] = np.diag(Am,-1)\n",
    "\n",
    "v = np.maximum(callOrPut*(s-k), 0)\n",
    "v_matrix = np.zeros((N+1,M+1))\n",
    "v_matrix[:,-1] = v\n",
    "\n",
    "\n",
    "\n"
   ]
  },
  {
   "cell_type": "code",
   "execution_count": 59,
   "metadata": {},
   "outputs": [],
   "source": [
    "for j in range(M-1,-1,-1):    \n",
    "    #temp = Ap @ v[1:-1] + theta*B @ v[[0,-1]]\n",
    "    # construct v(j+1) part which means Ap\n",
    "    temp = (1-theta)*d * v[:-2] + (1 + (1-theta)*m) * v[1:-1] + (1-theta)*u * v[2:]\n",
    "    # integrate v(k+1) part multiplied by (1-theta) * B\n",
    "    temp += (1-theta)*B @ v[[0,-1]]\n",
    "    v[0] = np.maximum(callOrPut*(0 - k * np.exp(-r * (M - j) * dt)), 0)\n",
    "    v[N] = np.maximum(callOrPut*(maxS - k * np.exp(-r * (M - j) * dt)), 0)\n",
    "    # integrate v(j) part multiplied by B * theta\n",
    "    temp[0] += theta*d[0]*v[0]\n",
    "    temp[-1] += theta*u[-1]*v[-1]\n",
    "    v[1:-1] = solve_banded((1,1), ab, temp)\n",
    "    v_matrix[:,j] = v\n"
   ]
  },
  {
   "cell_type": "code",
   "execution_count": 60,
   "metadata": {},
   "outputs": [],
   "source": [
    "f = interp1d(s,v)"
   ]
  },
  {
   "cell_type": "code",
   "execution_count": 61,
   "metadata": {},
   "outputs": [
    {
     "data": {
      "text/plain": [
       "array(0.06086286)"
      ]
     },
     "execution_count": 61,
     "metadata": {},
     "output_type": "execute_result"
    }
   ],
   "source": [
    "f(s0)"
   ]
  },
  {
   "cell_type": "code",
   "execution_count": 22,
   "metadata": {},
   "outputs": [],
   "source": [
    "def fdm_vanilla_option(s0, k, r, q, t, vol, optionType, maxS, N, M, theta=1):\n",
    "    ds = maxS / N\n",
    "    dt = t / M\n",
    "    callOrPut = 1 if optionType.lower()=='call' else -1\n",
    "\n",
    "    i = np.arange(N+1)\n",
    "    s = i * ds\n",
    "\n",
    "    a = dt*(vol*s[1:-1])**2 / (2*ds**2)\n",
    "    b = dt*(r-q)*s[1:-1] / (2*ds)\n",
    "    d, m, u = a-b, -2*a-dt*r, a+b\n",
    "\n",
    "    A = np.diag(d[1:],-1) + np.diag(m) + np.diag(u[:-1],1)\n",
    "    B = np.zeros((N-1,2))\n",
    "    B[0,0], B[-1,1] = d[0], u[-1]\n",
    "\n",
    "    Am = np.identity(N-1) - theta*A\n",
    "    Ap = np.identity(N-1) + (1-theta)*A\n",
    "    ab = np.zeros((3, N-1))\n",
    "    ab[0,1:] = np.diag(Am,1)\n",
    "    ab[1] = np.diag(Am)\n",
    "    ab[2,:-1] = np.diag(Am,-1)\n",
    "\n",
    "    v = np.maximum(callOrPut*(s-k), 0)\n",
    "    for j in range(M-1,-1,-1):    \n",
    "        #temp = Ap @ v[1:-1] + theta*B @ v[[0,-1]]\n",
    "        # construct v(j+1) part which means Ap\n",
    "        temp = (1-theta)*d * v[:-2] + (1 + (1-theta)*m) * v[1:-1] + (1-theta)*u * v[2:]\n",
    "        # integrate v(k+1) part multiplied by (1-theta) * B\n",
    "        temp += (1-theta)*B @ v[[0,-1]]\n",
    "        v[0] = np.maximum(callOrPut*(0 - k * np.exp(-r * (M - j) * dt)), 0)\n",
    "        v[N] = np.maximum(callOrPut*(maxS - k * np.exp(-r * (M - j) * dt)), 0)\n",
    "        # integrate v(j) part multiplied by B * theta\n",
    "        temp[0] += theta*d[0]*v[0]\n",
    "        temp[-1] += theta*u[-1]*v[-1]\n",
    "        v[1:-1] = solve_banded((1,1), ab, temp)\n",
    "\n",
    "    f = interp1d(s,v)\n",
    "    return pd.DataFrame({\"S\":s,\"V\":v}), f(s0)"
   ]
  },
  {
   "cell_type": "code",
   "execution_count": 23,
   "metadata": {},
   "outputs": [
    {
     "data": {
      "text/plain": [
       "(        S             V\n",
       " 0    0.00  0.000000e+00\n",
       " 1    0.01  1.132392e-63\n",
       " 2    0.02  5.008314e-60\n",
       " 3    0.03  6.523556e-57\n",
       " 4    0.04  3.972951e-54\n",
       " ..    ...           ...\n",
       " 196  1.96  1.421382e+00\n",
       " 197  1.97  1.446583e+00\n",
       " 198  1.98  1.471819e+00\n",
       " 199  1.99  1.497073e+00\n",
       " 200  2.00  1.014888e+00\n",
       " \n",
       " [201 rows x 2 columns],\n",
       " array(0.060867))"
      ]
     },
     "execution_count": 23,
     "metadata": {},
     "output_type": "execute_result"
    }
   ],
   "source": [
    "fdm_vanilla_option(s0, k, r, q, t, vol, optionType, maxS, N, M, 0.5)"
   ]
  }
 ],
 "metadata": {
  "kernelspec": {
   "display_name": "mfe311",
   "language": "python",
   "name": "python3"
  },
  "language_info": {
   "codemirror_mode": {
    "name": "ipython",
    "version": 3
   },
   "file_extension": ".py",
   "mimetype": "text/x-python",
   "name": "python",
   "nbconvert_exporter": "python",
   "pygments_lexer": "ipython3",
   "version": "3.11.9"
  }
 },
 "nbformat": 4,
 "nbformat_minor": 2
}
