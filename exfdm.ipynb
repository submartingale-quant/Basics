{
 "cells": [
  {
   "cell_type": "code",
   "execution_count": 1,
   "metadata": {},
   "outputs": [],
   "source": [
    "import numpy as np\n",
    "import scipy.stats as sst\n",
    "import pandas as pd\n",
    "from scipy.linalg import solve_banded, solve, solveh_banded\n",
    "from scipy.interpolate import interp1d\n",
    "import matplotlib.pyplot as plt "
   ]
  },
  {
   "cell_type": "code",
   "execution_count": 2,
   "metadata": {},
   "outputs": [],
   "source": [
    "def bsprice(s, k, r, q, t, sigma, optionType):\n",
    "    d1 = (np.log(s/k) + (r - q + 0.5*sigma**2)*t) / (sigma*np.sqrt(t))\n",
    "    d2 = d1 - sigma*np.sqrt(t)\n",
    "    callOrPut = 1 if optionType.lower()=='call' else -1\n",
    "    nd1 = sst.norm.cdf(callOrPut*d1)\n",
    "    nd2 = sst.norm.cdf(callOrPut*d2)\n",
    "    price = callOrPut*(s*np.exp(-q*t)*nd1 - k*np.exp(-r*t)*nd2)\n",
    "    return price"
   ]
  },
  {
   "cell_type": "code",
   "execution_count": 3,
   "metadata": {},
   "outputs": [],
   "source": [
    "s0 = 100\n",
    "k = 100\n",
    "r = 0.03\n",
    "q = 0.01\n",
    "vol = 0.2\n",
    "t = 0.25\n",
    "optionType = 1\n",
    "maxS = 3*s0\n",
    "N = 1000\n",
    "M = 10000\n",
    "callOrPut = 'call'"
   ]
  },
  {
   "cell_type": "code",
   "execution_count": null,
   "metadata": {},
   "outputs": [],
   "source": [
    "# This codes referenced by prof.Hwang\n",
    " \n",
    "ds = maxS/N # State grid size\n",
    "dt = t / M # time grid size\n",
    "\n",
    "i = np.arange(N+1) # index\n",
    "s = i * ds # state values\n",
    "a = dt * (vol*s[1:-1])**2 / (2*ds**2)\n",
    "b = dt * (r-q)*s[1:-1] / (2*ds)\n",
    "\n",
    "d,m,u = a-b, -2*a - dt * r, a+b\n",
    "\n",
    "v = np.maximum(optionType * (s-k),0) # payoff\n",
    "\n",
    "for j in range(M-1, -1, -1): # from M-1 to 0 by -1\n",
    "    # time t-1 values are directly calculated in explict framework\n",
    "    temp = d*v[:-2] + (1+m) * v[1:-1] + u * v[2:] \n",
    "    # boundary conditions\n",
    "    v[0] = np.maximum(optionType *(0-k*np.exp(-r*(M-j)*dt)),0) \n",
    "    v[N] = np.maximum(optionType*(maxS - k * np.exp(-r * (M - j) * dt)), 0)\n",
    "    v[1:-1] = temp\n",
    "f = interp1d(s,v)\n",
    "\n"
   ]
  },
  {
   "cell_type": "code",
   "execution_count": 5,
   "metadata": {},
   "outputs": [
    {
     "data": {
      "text/plain": [
       "array(4.22198926)"
      ]
     },
     "execution_count": 5,
     "metadata": {},
     "output_type": "execute_result"
    }
   ],
   "source": [
    "f(s0)"
   ]
  },
  {
   "cell_type": "code",
   "execution_count": 7,
   "metadata": {},
   "outputs": [],
   "source": [
    "def exfdm_vanilla_option(s0, k, r, q, t, vol, optionType, maxS, N, M):\n",
    "    ds = maxS / N\n",
    "    dt = t / M\n",
    "    callOrPut = 1 if optionType.lower()=='call' else -1\n",
    "\n",
    "    i = np.arange(N+1)\n",
    "    s = i * ds\n",
    "    a = dt*(vol*s[1:-1])**2 / (2*ds**2)\n",
    "    b = dt*(r-q)*s[1:-1] / (2*ds)\n",
    "    d, m, u = a-b, -2*a-dt*r, a+b\n",
    "\n",
    "    v = np.maximum(callOrPut*(s-k), 0)\n",
    "\n",
    "    for j in range(M-1,-1,-1):\n",
    "        temp = d * v[:-2] + (1 + m) * v[1:-1] + u * v[2:]\n",
    "        v[0] = np.maximum(callOrPut*(0 - k * np.exp(-r * (M - j) * dt)), 0)\n",
    "        v[N] = np.maximum(callOrPut*(maxS - k * np.exp(-r * (M - j) * dt)), 0)\n",
    "        v[1:-1] = temp\n",
    "    f = interp1d(s,v)\n",
    "    return pd.DataFrame({\"S\":s,\"V\":v}), f(s0)"
   ]
  },
  {
   "cell_type": "code",
   "execution_count": 8,
   "metadata": {},
   "outputs": [
    {
     "data": {
      "text/plain": [
       "(          S              V\n",
       " 0       0.0   0.000000e+00\n",
       " 1       0.3  1.196142e-164\n",
       " 2       0.6  3.094133e-160\n",
       " 3       0.9  2.384204e-156\n",
       " 4       1.2  8.687061e-153\n",
       " ...     ...            ...\n",
       " 996   298.8   1.995034e+02\n",
       " 997   299.1   1.998141e+02\n",
       " 998   299.4   2.001250e+02\n",
       " 999   299.7   2.004360e+02\n",
       " 1000  300.0   2.007472e+02\n",
       " \n",
       " [1001 rows x 2 columns],\n",
       " array(4.22198926))"
      ]
     },
     "execution_count": 8,
     "metadata": {},
     "output_type": "execute_result"
    }
   ],
   "source": [
    "exfdm_vanilla_option(s0, k, r, q, t, vol, callOrPut, maxS, N, M)"
   ]
  }
 ],
 "metadata": {
  "kernelspec": {
   "display_name": "mfe311",
   "language": "python",
   "name": "python3"
  },
  "language_info": {
   "codemirror_mode": {
    "name": "ipython",
    "version": 3
   },
   "file_extension": ".py",
   "mimetype": "text/x-python",
   "name": "python",
   "nbconvert_exporter": "python",
   "pygments_lexer": "ipython3",
   "version": "3.11.9"
  }
 },
 "nbformat": 4,
 "nbformat_minor": 2
}
